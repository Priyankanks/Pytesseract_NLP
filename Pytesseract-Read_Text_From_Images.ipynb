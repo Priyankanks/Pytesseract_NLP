{
 "cells": [
  {
   "cell_type": "code",
   "execution_count": 5,
   "id": "bc893f23",
   "metadata": {},
   "outputs": [],
   "source": [
    "import pytesseract\n",
    "import cv2"
   ]
  },
  {
   "cell_type": "code",
   "execution_count": 3,
   "id": "d206a721",
   "metadata": {},
   "outputs": [],
   "source": [
    "pytesseract.pytesseract.tesseract_cmd=r'C:\\\\Program Files\\\\Tesseract-OCR\\\\tesseract.exe'"
   ]
  },
  {
   "cell_type": "code",
   "execution_count": 6,
   "id": "ad01993f",
   "metadata": {},
   "outputs": [],
   "source": [
    "img = cv2.imread('Capture.PNG')"
   ]
  },
  {
   "cell_type": "code",
   "execution_count": 8,
   "id": "f38ba638",
   "metadata": {},
   "outputs": [],
   "source": [
    "cv2.imshow('Text_In_The_Image',img)\n",
    "cv2.waitKey(0)\n",
    "cv2.destroyAllWindows()"
   ]
  },
  {
   "cell_type": "code",
   "execution_count": 10,
   "id": "d4c8ee72",
   "metadata": {},
   "outputs": [],
   "source": [
    "text = pytesseract.image_to_string(img)"
   ]
  },
  {
   "cell_type": "code",
   "execution_count": 11,
   "id": "cfb4f545",
   "metadata": {},
   "outputs": [
    {
     "data": {
      "text/plain": [
       "'Adobe, the Adobe logo, Acrobat, the Acrobat logo, Acrobat Capture, Adobe Garamond, Adobe\\nIntelligent Document Platform, Adobe PDF, Adobe Reader, Adobe Solutions Network, Aldus, Dis-\\ntiller, ePaper, Extreme, FrameMaker, Illustrator, InDesign, Minion, Myriad, PageMaker, Photo-\\nshop, Poetica, PostScript, and XMP are either registered trademarks or trademarks of Adobe\\nSystems Incorporated in the United States and/or other countries. Microsoft and Windows are\\neither registered trademarks or trademarks of Microsoft Corporation in the United States and/or\\nother countries. Apple, Mac, Macintosh, and Power Macintosh are trademarks of Apple Computer,\\nInc., registered in the United States and other countries. IBM is a registered trademark of IBM\\nCorporation in the United States. Sun is a trademark or registered trademark of Sun Microsys-\\ntems, Inc. in the United States and other countries. UNIX is a registered trademark of The Open -\\nGroup. SVG is a trademark of the World Wide Web Consortium; marks of the W3C are registered\\nand held by its host[institutions|MIT, INRIA and Keio. Helvetica and Times are registered trade-\\nmarks of Linotype-Hell AG and/or its subsidiaries. Arial and Times New Roman are trademarks of\\nThe Monotype Corporation registered in the US. Patent and Trademark Office and may be regis-\\ntered in certain other jurisdictions. ITC Zapf Dingbats is a registered trademark of International\\n‘Typeface Corporation. Ryumin Light is a trademark of Morisawa & Co., Ltd. All other trademarks\\nare the property of their respective owners.\\n\\n \\n\\n \\n\\n \\n\\n \\n\\x0c'"
      ]
     },
     "execution_count": 11,
     "metadata": {},
     "output_type": "execute_result"
    }
   ],
   "source": [
    "text"
   ]
  }
 ],
 "metadata": {
  "kernelspec": {
   "display_name": "Python 3 (ipykernel)",
   "language": "python",
   "name": "python3"
  },
  "language_info": {
   "codemirror_mode": {
    "name": "ipython",
    "version": 3
   },
   "file_extension": ".py",
   "mimetype": "text/x-python",
   "name": "python",
   "nbconvert_exporter": "python",
   "pygments_lexer": "ipython3",
   "version": "3.8.11"
  }
 },
 "nbformat": 4,
 "nbformat_minor": 5
}
